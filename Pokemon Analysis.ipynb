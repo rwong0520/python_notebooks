{
 "cells": [
  {
   "cell_type": "markdown",
   "metadata": {},
   "source": [
    "# Pokemon Dataset#\n",
    "\n",
    " Pokemon was introduced as a game through Pokemon Red and Blue and with its success, it has been integrated into several media forms such as animated TV series, animated movies, live action movies and even memes.<br>\n",
    "\n",
    "Within the early stages of Pokemon, there were only 151 pokemons which would be quite easy to derive general information about them. But with many changes and additions to the Pokedex, there are a multitude of Pokemon with around 800 of them. Alongside with current technology, we can start seeing whether we can at least give knowledge or insight to those who are not familiar with Pokemon<br>\n",
    "\n",
    "We have gathered a dataset which contains the list of pokemon and their general stats. Alongside with this dataset, there are a few questions which we would like to have answered:<br>\n",
    "\n",
    "\n",
    "* What are the strongest and weakest pokemons? *COMPLETE*\n",
    "* Are there any correlations between stats ? What kind of correlations exist and between what pairs? *COMPLETE*\n",
    "* Which type of pokemon has the strongest base stats and total stats? *COMPLETE*\n",
    "* With a given dataset, are we able to create a prediction model for whether a pokemon is legendary or not? *COMPLETE*\n",
    "\n",
    "<br>\n",
    "Let's first get started by importing our Python packages and cleaning the data."
   ]
  },
  {
   "cell_type": "markdown",
   "metadata": {},
   "source": [
    "## Data Cleaning ##"
   ]
  },
  {
   "cell_type": "code",
   "execution_count": 1,
   "metadata": {},
   "outputs": [],
   "source": [
    "#Importing Packages\n",
    "import numpy as np\n",
    "import pandas as pd\n",
    "import matplotlib.pyplot as plt\n",
    "from sklearn.metrics import accuracy_score\n",
    "from sklearn.model_selection import train_test_split\n",
    "from sklearn.tree import DecisionTreeClassifier"
   ]
  },
  {
   "cell_type": "code",
   "execution_count": 2,
   "metadata": {},
   "outputs": [
    {
     "data": {
      "text/html": [
       "<div>\n",
       "<style scoped>\n",
       "    .dataframe tbody tr th:only-of-type {\n",
       "        vertical-align: middle;\n",
       "    }\n",
       "\n",
       "    .dataframe tbody tr th {\n",
       "        vertical-align: top;\n",
       "    }\n",
       "\n",
       "    .dataframe thead th {\n",
       "        text-align: right;\n",
       "    }\n",
       "</style>\n",
       "<table border=\"1\" class=\"dataframe\">\n",
       "  <thead>\n",
       "    <tr style=\"text-align: right;\">\n",
       "      <th></th>\n",
       "      <th>#</th>\n",
       "      <th>Name</th>\n",
       "      <th>Type 1</th>\n",
       "      <th>Type 2</th>\n",
       "      <th>Total</th>\n",
       "      <th>HP</th>\n",
       "      <th>Attack</th>\n",
       "      <th>Defense</th>\n",
       "      <th>Sp. Atk</th>\n",
       "      <th>Sp. Def</th>\n",
       "      <th>Speed</th>\n",
       "      <th>Generation</th>\n",
       "      <th>Legendary</th>\n",
       "    </tr>\n",
       "  </thead>\n",
       "  <tbody>\n",
       "    <tr>\n",
       "      <th>0</th>\n",
       "      <td>1</td>\n",
       "      <td>Bulbasaur</td>\n",
       "      <td>Grass</td>\n",
       "      <td>Poison</td>\n",
       "      <td>318</td>\n",
       "      <td>45</td>\n",
       "      <td>49</td>\n",
       "      <td>49</td>\n",
       "      <td>65</td>\n",
       "      <td>65</td>\n",
       "      <td>45</td>\n",
       "      <td>1</td>\n",
       "      <td>False</td>\n",
       "    </tr>\n",
       "    <tr>\n",
       "      <th>1</th>\n",
       "      <td>2</td>\n",
       "      <td>Ivysaur</td>\n",
       "      <td>Grass</td>\n",
       "      <td>Poison</td>\n",
       "      <td>405</td>\n",
       "      <td>60</td>\n",
       "      <td>62</td>\n",
       "      <td>63</td>\n",
       "      <td>80</td>\n",
       "      <td>80</td>\n",
       "      <td>60</td>\n",
       "      <td>1</td>\n",
       "      <td>False</td>\n",
       "    </tr>\n",
       "    <tr>\n",
       "      <th>2</th>\n",
       "      <td>3</td>\n",
       "      <td>Venusaur</td>\n",
       "      <td>Grass</td>\n",
       "      <td>Poison</td>\n",
       "      <td>525</td>\n",
       "      <td>80</td>\n",
       "      <td>82</td>\n",
       "      <td>83</td>\n",
       "      <td>100</td>\n",
       "      <td>100</td>\n",
       "      <td>80</td>\n",
       "      <td>1</td>\n",
       "      <td>False</td>\n",
       "    </tr>\n",
       "    <tr>\n",
       "      <th>3</th>\n",
       "      <td>3</td>\n",
       "      <td>VenusaurMega Venusaur</td>\n",
       "      <td>Grass</td>\n",
       "      <td>Poison</td>\n",
       "      <td>625</td>\n",
       "      <td>80</td>\n",
       "      <td>100</td>\n",
       "      <td>123</td>\n",
       "      <td>122</td>\n",
       "      <td>120</td>\n",
       "      <td>80</td>\n",
       "      <td>1</td>\n",
       "      <td>False</td>\n",
       "    </tr>\n",
       "    <tr>\n",
       "      <th>4</th>\n",
       "      <td>4</td>\n",
       "      <td>Charmander</td>\n",
       "      <td>Fire</td>\n",
       "      <td>NaN</td>\n",
       "      <td>309</td>\n",
       "      <td>39</td>\n",
       "      <td>52</td>\n",
       "      <td>43</td>\n",
       "      <td>60</td>\n",
       "      <td>50</td>\n",
       "      <td>65</td>\n",
       "      <td>1</td>\n",
       "      <td>False</td>\n",
       "    </tr>\n",
       "  </tbody>\n",
       "</table>\n",
       "</div>"
      ],
      "text/plain": [
       "   #                   Name Type 1  Type 2  Total  HP  Attack  Defense  \\\n",
       "0  1              Bulbasaur  Grass  Poison    318  45      49       49   \n",
       "1  2                Ivysaur  Grass  Poison    405  60      62       63   \n",
       "2  3               Venusaur  Grass  Poison    525  80      82       83   \n",
       "3  3  VenusaurMega Venusaur  Grass  Poison    625  80     100      123   \n",
       "4  4             Charmander   Fire     NaN    309  39      52       43   \n",
       "\n",
       "   Sp. Atk  Sp. Def  Speed  Generation  Legendary  \n",
       "0       65       65     45           1      False  \n",
       "1       80       80     60           1      False  \n",
       "2      100      100     80           1      False  \n",
       "3      122      120     80           1      False  \n",
       "4       60       50     65           1      False  "
      ]
     },
     "execution_count": 2,
     "metadata": {},
     "output_type": "execute_result"
    }
   ],
   "source": [
    "#Top 5 Lines of the table\n",
    "data = pd.read_csv('pokemon.csv')\n",
    "data.head()"
   ]
  },
  {
   "cell_type": "code",
   "execution_count": 3,
   "metadata": {},
   "outputs": [
    {
     "data": {
      "text/html": [
       "<div>\n",
       "<style scoped>\n",
       "    .dataframe tbody tr th:only-of-type {\n",
       "        vertical-align: middle;\n",
       "    }\n",
       "\n",
       "    .dataframe tbody tr th {\n",
       "        vertical-align: top;\n",
       "    }\n",
       "\n",
       "    .dataframe thead th {\n",
       "        text-align: right;\n",
       "    }\n",
       "</style>\n",
       "<table border=\"1\" class=\"dataframe\">\n",
       "  <thead>\n",
       "    <tr style=\"text-align: right;\">\n",
       "      <th></th>\n",
       "      <th>number</th>\n",
       "      <th>name</th>\n",
       "      <th>type_1</th>\n",
       "      <th>type_2</th>\n",
       "      <th>total</th>\n",
       "      <th>hp</th>\n",
       "      <th>attack</th>\n",
       "      <th>defense</th>\n",
       "      <th>sp_attack</th>\n",
       "      <th>sp_defense</th>\n",
       "      <th>speed</th>\n",
       "      <th>generation</th>\n",
       "      <th>legendary</th>\n",
       "    </tr>\n",
       "  </thead>\n",
       "  <tbody>\n",
       "    <tr>\n",
       "      <th>0</th>\n",
       "      <td>1</td>\n",
       "      <td>Bulbasaur</td>\n",
       "      <td>Grass</td>\n",
       "      <td>Poison</td>\n",
       "      <td>318</td>\n",
       "      <td>45</td>\n",
       "      <td>49</td>\n",
       "      <td>49</td>\n",
       "      <td>65</td>\n",
       "      <td>65</td>\n",
       "      <td>45</td>\n",
       "      <td>1</td>\n",
       "      <td>False</td>\n",
       "    </tr>\n",
       "    <tr>\n",
       "      <th>1</th>\n",
       "      <td>2</td>\n",
       "      <td>Ivysaur</td>\n",
       "      <td>Grass</td>\n",
       "      <td>Poison</td>\n",
       "      <td>405</td>\n",
       "      <td>60</td>\n",
       "      <td>62</td>\n",
       "      <td>63</td>\n",
       "      <td>80</td>\n",
       "      <td>80</td>\n",
       "      <td>60</td>\n",
       "      <td>1</td>\n",
       "      <td>False</td>\n",
       "    </tr>\n",
       "    <tr>\n",
       "      <th>2</th>\n",
       "      <td>3</td>\n",
       "      <td>Venusaur</td>\n",
       "      <td>Grass</td>\n",
       "      <td>Poison</td>\n",
       "      <td>525</td>\n",
       "      <td>80</td>\n",
       "      <td>82</td>\n",
       "      <td>83</td>\n",
       "      <td>100</td>\n",
       "      <td>100</td>\n",
       "      <td>80</td>\n",
       "      <td>1</td>\n",
       "      <td>False</td>\n",
       "    </tr>\n",
       "    <tr>\n",
       "      <th>3</th>\n",
       "      <td>3</td>\n",
       "      <td>VenusaurMega Venusaur</td>\n",
       "      <td>Grass</td>\n",
       "      <td>Poison</td>\n",
       "      <td>625</td>\n",
       "      <td>80</td>\n",
       "      <td>100</td>\n",
       "      <td>123</td>\n",
       "      <td>122</td>\n",
       "      <td>120</td>\n",
       "      <td>80</td>\n",
       "      <td>1</td>\n",
       "      <td>False</td>\n",
       "    </tr>\n",
       "    <tr>\n",
       "      <th>4</th>\n",
       "      <td>4</td>\n",
       "      <td>Charmander</td>\n",
       "      <td>Fire</td>\n",
       "      <td>NaN</td>\n",
       "      <td>309</td>\n",
       "      <td>39</td>\n",
       "      <td>52</td>\n",
       "      <td>43</td>\n",
       "      <td>60</td>\n",
       "      <td>50</td>\n",
       "      <td>65</td>\n",
       "      <td>1</td>\n",
       "      <td>False</td>\n",
       "    </tr>\n",
       "  </tbody>\n",
       "</table>\n",
       "</div>"
      ],
      "text/plain": [
       "   number                   name type_1  type_2  total  hp  attack  defense  \\\n",
       "0       1              Bulbasaur  Grass  Poison    318  45      49       49   \n",
       "1       2                Ivysaur  Grass  Poison    405  60      62       63   \n",
       "2       3               Venusaur  Grass  Poison    525  80      82       83   \n",
       "3       3  VenusaurMega Venusaur  Grass  Poison    625  80     100      123   \n",
       "4       4             Charmander   Fire     NaN    309  39      52       43   \n",
       "\n",
       "   sp_attack  sp_defense  speed  generation  legendary  \n",
       "0         65          65     45           1      False  \n",
       "1         80          80     60           1      False  \n",
       "2        100         100     80           1      False  \n",
       "3        122         120     80           1      False  \n",
       "4         60          50     65           1      False  "
      ]
     },
     "execution_count": 3,
     "metadata": {},
     "output_type": "execute_result"
    }
   ],
   "source": [
    "#Cleaning up column names\n",
    "data.rename(columns = {'Name':'name', \n",
    "                       'Type 1':'type_1',\n",
    "                       'Type 2': 'type_2',\n",
    "                      'Total': 'total',\n",
    "                      'HP':'hp',\n",
    "                      'Attack' : 'attack',\n",
    "                      'Defense':'defense',\n",
    "                      'Sp. Atk':'sp_attack',\n",
    "                      'Sp. Def':'sp_defense',\n",
    "                      'Speed':'speed',\n",
    "                      'Generation':'generation',\n",
    "                      'Legendary':'legendary',\n",
    "                      '#':'number'},inplace = True)\n",
    "data.head()"
   ]
  },
  {
   "cell_type": "code",
   "execution_count": 4,
   "metadata": {},
   "outputs": [
    {
     "data": {
      "text/plain": [
       "number        False\n",
       "name          False\n",
       "type_1        False\n",
       "type_2         True\n",
       "total         False\n",
       "hp            False\n",
       "attack        False\n",
       "defense       False\n",
       "sp_attack     False\n",
       "sp_defense    False\n",
       "speed         False\n",
       "generation    False\n",
       "legendary     False\n",
       "dtype: bool"
      ]
     },
     "execution_count": 4,
     "metadata": {},
     "output_type": "execute_result"
    }
   ],
   "source": [
    "#We can Identify that there are missing values within our dataset and now let's investigate which columns this is in.\n",
    "data.isnull().any()"
   ]
  },
  {
   "cell_type": "code",
   "execution_count": 5,
   "metadata": {},
   "outputs": [
    {
     "data": {
      "text/html": [
       "<div>\n",
       "<style scoped>\n",
       "    .dataframe tbody tr th:only-of-type {\n",
       "        vertical-align: middle;\n",
       "    }\n",
       "\n",
       "    .dataframe tbody tr th {\n",
       "        vertical-align: top;\n",
       "    }\n",
       "\n",
       "    .dataframe thead th {\n",
       "        text-align: right;\n",
       "    }\n",
       "</style>\n",
       "<table border=\"1\" class=\"dataframe\">\n",
       "  <thead>\n",
       "    <tr style=\"text-align: right;\">\n",
       "      <th></th>\n",
       "      <th>number</th>\n",
       "      <th>name</th>\n",
       "      <th>type_1</th>\n",
       "      <th>type_2</th>\n",
       "      <th>total</th>\n",
       "      <th>hp</th>\n",
       "      <th>attack</th>\n",
       "      <th>defense</th>\n",
       "      <th>sp_attack</th>\n",
       "      <th>sp_defense</th>\n",
       "      <th>speed</th>\n",
       "      <th>generation</th>\n",
       "      <th>legendary</th>\n",
       "    </tr>\n",
       "  </thead>\n",
       "  <tbody>\n",
       "    <tr>\n",
       "      <th>4</th>\n",
       "      <td>4</td>\n",
       "      <td>Charmander</td>\n",
       "      <td>Fire</td>\n",
       "      <td>NaN</td>\n",
       "      <td>309</td>\n",
       "      <td>39</td>\n",
       "      <td>52</td>\n",
       "      <td>43</td>\n",
       "      <td>60</td>\n",
       "      <td>50</td>\n",
       "      <td>65</td>\n",
       "      <td>1</td>\n",
       "      <td>False</td>\n",
       "    </tr>\n",
       "    <tr>\n",
       "      <th>5</th>\n",
       "      <td>5</td>\n",
       "      <td>Charmeleon</td>\n",
       "      <td>Fire</td>\n",
       "      <td>NaN</td>\n",
       "      <td>405</td>\n",
       "      <td>58</td>\n",
       "      <td>64</td>\n",
       "      <td>58</td>\n",
       "      <td>80</td>\n",
       "      <td>65</td>\n",
       "      <td>80</td>\n",
       "      <td>1</td>\n",
       "      <td>False</td>\n",
       "    </tr>\n",
       "    <tr>\n",
       "      <th>9</th>\n",
       "      <td>7</td>\n",
       "      <td>Squirtle</td>\n",
       "      <td>Water</td>\n",
       "      <td>NaN</td>\n",
       "      <td>314</td>\n",
       "      <td>44</td>\n",
       "      <td>48</td>\n",
       "      <td>65</td>\n",
       "      <td>50</td>\n",
       "      <td>64</td>\n",
       "      <td>43</td>\n",
       "      <td>1</td>\n",
       "      <td>False</td>\n",
       "    </tr>\n",
       "    <tr>\n",
       "      <th>10</th>\n",
       "      <td>8</td>\n",
       "      <td>Wartortle</td>\n",
       "      <td>Water</td>\n",
       "      <td>NaN</td>\n",
       "      <td>405</td>\n",
       "      <td>59</td>\n",
       "      <td>63</td>\n",
       "      <td>80</td>\n",
       "      <td>65</td>\n",
       "      <td>80</td>\n",
       "      <td>58</td>\n",
       "      <td>1</td>\n",
       "      <td>False</td>\n",
       "    </tr>\n",
       "    <tr>\n",
       "      <th>11</th>\n",
       "      <td>9</td>\n",
       "      <td>Blastoise</td>\n",
       "      <td>Water</td>\n",
       "      <td>NaN</td>\n",
       "      <td>530</td>\n",
       "      <td>79</td>\n",
       "      <td>83</td>\n",
       "      <td>100</td>\n",
       "      <td>85</td>\n",
       "      <td>105</td>\n",
       "      <td>78</td>\n",
       "      <td>1</td>\n",
       "      <td>False</td>\n",
       "    </tr>\n",
       "  </tbody>\n",
       "</table>\n",
       "</div>"
      ],
      "text/plain": [
       "    number        name type_1 type_2  total  hp  attack  defense  sp_attack  \\\n",
       "4        4  Charmander   Fire    NaN    309  39      52       43         60   \n",
       "5        5  Charmeleon   Fire    NaN    405  58      64       58         80   \n",
       "9        7    Squirtle  Water    NaN    314  44      48       65         50   \n",
       "10       8   Wartortle  Water    NaN    405  59      63       80         65   \n",
       "11       9   Blastoise  Water    NaN    530  79      83      100         85   \n",
       "\n",
       "    sp_defense  speed  generation  legendary  \n",
       "4           50     65           1      False  \n",
       "5           65     80           1      False  \n",
       "9           64     43           1      False  \n",
       "10          80     58           1      False  \n",
       "11         105     78           1      False  "
      ]
     },
     "execution_count": 5,
     "metadata": {},
     "output_type": "execute_result"
    }
   ],
   "source": [
    "data[data['type_2'].isnull()].head()\n",
    "#Some Pokemons are supposedly having 2 types where as some only have 1. This column is crucial to our analysis so we will\n",
    "#Remove any rows related to NaN"
   ]
  },
  {
   "cell_type": "markdown",
   "metadata": {},
   "source": [
    "## Anaylsis ##"
   ]
  },
  {
   "cell_type": "markdown",
   "metadata": {},
   "source": [
    "### Strongest Pokemons ###\n",
    "Let's have a quick glimpse at our strongest pokemons."
   ]
  },
  {
   "cell_type": "code",
   "execution_count": 6,
   "metadata": {},
   "outputs": [
    {
     "data": {
      "text/html": [
       "<div>\n",
       "<style scoped>\n",
       "    .dataframe tbody tr th:only-of-type {\n",
       "        vertical-align: middle;\n",
       "    }\n",
       "\n",
       "    .dataframe tbody tr th {\n",
       "        vertical-align: top;\n",
       "    }\n",
       "\n",
       "    .dataframe thead th {\n",
       "        text-align: right;\n",
       "    }\n",
       "</style>\n",
       "<table border=\"1\" class=\"dataframe\">\n",
       "  <thead>\n",
       "    <tr style=\"text-align: right;\">\n",
       "      <th></th>\n",
       "      <th>number</th>\n",
       "      <th>name</th>\n",
       "      <th>type_1</th>\n",
       "      <th>type_2</th>\n",
       "      <th>total</th>\n",
       "      <th>hp</th>\n",
       "      <th>attack</th>\n",
       "      <th>defense</th>\n",
       "      <th>sp_attack</th>\n",
       "      <th>sp_defense</th>\n",
       "      <th>speed</th>\n",
       "      <th>generation</th>\n",
       "      <th>legendary</th>\n",
       "    </tr>\n",
       "  </thead>\n",
       "  <tbody>\n",
       "    <tr>\n",
       "      <th>426</th>\n",
       "      <td>384</td>\n",
       "      <td>RayquazaMega Rayquaza</td>\n",
       "      <td>Dragon</td>\n",
       "      <td>Flying</td>\n",
       "      <td>780</td>\n",
       "      <td>105</td>\n",
       "      <td>180</td>\n",
       "      <td>100</td>\n",
       "      <td>180</td>\n",
       "      <td>100</td>\n",
       "      <td>115</td>\n",
       "      <td>3</td>\n",
       "      <td>True</td>\n",
       "    </tr>\n",
       "    <tr>\n",
       "      <th>164</th>\n",
       "      <td>150</td>\n",
       "      <td>MewtwoMega Mewtwo Y</td>\n",
       "      <td>Psychic</td>\n",
       "      <td>NaN</td>\n",
       "      <td>780</td>\n",
       "      <td>106</td>\n",
       "      <td>150</td>\n",
       "      <td>70</td>\n",
       "      <td>194</td>\n",
       "      <td>120</td>\n",
       "      <td>140</td>\n",
       "      <td>1</td>\n",
       "      <td>True</td>\n",
       "    </tr>\n",
       "    <tr>\n",
       "      <th>163</th>\n",
       "      <td>150</td>\n",
       "      <td>MewtwoMega Mewtwo X</td>\n",
       "      <td>Psychic</td>\n",
       "      <td>Fighting</td>\n",
       "      <td>780</td>\n",
       "      <td>106</td>\n",
       "      <td>190</td>\n",
       "      <td>100</td>\n",
       "      <td>154</td>\n",
       "      <td>100</td>\n",
       "      <td>130</td>\n",
       "      <td>1</td>\n",
       "      <td>True</td>\n",
       "    </tr>\n",
       "    <tr>\n",
       "      <th>422</th>\n",
       "      <td>382</td>\n",
       "      <td>KyogrePrimal Kyogre</td>\n",
       "      <td>Water</td>\n",
       "      <td>NaN</td>\n",
       "      <td>770</td>\n",
       "      <td>100</td>\n",
       "      <td>150</td>\n",
       "      <td>90</td>\n",
       "      <td>180</td>\n",
       "      <td>160</td>\n",
       "      <td>90</td>\n",
       "      <td>3</td>\n",
       "      <td>True</td>\n",
       "    </tr>\n",
       "    <tr>\n",
       "      <th>424</th>\n",
       "      <td>383</td>\n",
       "      <td>GroudonPrimal Groudon</td>\n",
       "      <td>Ground</td>\n",
       "      <td>Fire</td>\n",
       "      <td>770</td>\n",
       "      <td>100</td>\n",
       "      <td>180</td>\n",
       "      <td>160</td>\n",
       "      <td>150</td>\n",
       "      <td>90</td>\n",
       "      <td>90</td>\n",
       "      <td>3</td>\n",
       "      <td>True</td>\n",
       "    </tr>\n",
       "    <tr>\n",
       "      <th>552</th>\n",
       "      <td>493</td>\n",
       "      <td>Arceus</td>\n",
       "      <td>Normal</td>\n",
       "      <td>NaN</td>\n",
       "      <td>720</td>\n",
       "      <td>120</td>\n",
       "      <td>120</td>\n",
       "      <td>120</td>\n",
       "      <td>120</td>\n",
       "      <td>120</td>\n",
       "      <td>120</td>\n",
       "      <td>4</td>\n",
       "      <td>True</td>\n",
       "    </tr>\n",
       "    <tr>\n",
       "      <th>712</th>\n",
       "      <td>646</td>\n",
       "      <td>KyuremWhite Kyurem</td>\n",
       "      <td>Dragon</td>\n",
       "      <td>Ice</td>\n",
       "      <td>700</td>\n",
       "      <td>125</td>\n",
       "      <td>120</td>\n",
       "      <td>90</td>\n",
       "      <td>170</td>\n",
       "      <td>100</td>\n",
       "      <td>95</td>\n",
       "      <td>5</td>\n",
       "      <td>True</td>\n",
       "    </tr>\n",
       "    <tr>\n",
       "      <th>711</th>\n",
       "      <td>646</td>\n",
       "      <td>KyuremBlack Kyurem</td>\n",
       "      <td>Dragon</td>\n",
       "      <td>Ice</td>\n",
       "      <td>700</td>\n",
       "      <td>125</td>\n",
       "      <td>170</td>\n",
       "      <td>100</td>\n",
       "      <td>120</td>\n",
       "      <td>90</td>\n",
       "      <td>95</td>\n",
       "      <td>5</td>\n",
       "      <td>True</td>\n",
       "    </tr>\n",
       "    <tr>\n",
       "      <th>409</th>\n",
       "      <td>373</td>\n",
       "      <td>SalamenceMega Salamence</td>\n",
       "      <td>Dragon</td>\n",
       "      <td>Flying</td>\n",
       "      <td>700</td>\n",
       "      <td>95</td>\n",
       "      <td>145</td>\n",
       "      <td>130</td>\n",
       "      <td>120</td>\n",
       "      <td>90</td>\n",
       "      <td>120</td>\n",
       "      <td>3</td>\n",
       "      <td>False</td>\n",
       "    </tr>\n",
       "    <tr>\n",
       "      <th>413</th>\n",
       "      <td>376</td>\n",
       "      <td>MetagrossMega Metagross</td>\n",
       "      <td>Steel</td>\n",
       "      <td>Psychic</td>\n",
       "      <td>700</td>\n",
       "      <td>80</td>\n",
       "      <td>145</td>\n",
       "      <td>150</td>\n",
       "      <td>105</td>\n",
       "      <td>110</td>\n",
       "      <td>110</td>\n",
       "      <td>3</td>\n",
       "      <td>False</td>\n",
       "    </tr>\n",
       "    <tr>\n",
       "      <th>418</th>\n",
       "      <td>380</td>\n",
       "      <td>LatiasMega Latias</td>\n",
       "      <td>Dragon</td>\n",
       "      <td>Psychic</td>\n",
       "      <td>700</td>\n",
       "      <td>80</td>\n",
       "      <td>100</td>\n",
       "      <td>120</td>\n",
       "      <td>140</td>\n",
       "      <td>150</td>\n",
       "      <td>110</td>\n",
       "      <td>3</td>\n",
       "      <td>True</td>\n",
       "    </tr>\n",
       "    <tr>\n",
       "      <th>420</th>\n",
       "      <td>381</td>\n",
       "      <td>LatiosMega Latios</td>\n",
       "      <td>Dragon</td>\n",
       "      <td>Psychic</td>\n",
       "      <td>700</td>\n",
       "      <td>80</td>\n",
       "      <td>130</td>\n",
       "      <td>100</td>\n",
       "      <td>160</td>\n",
       "      <td>120</td>\n",
       "      <td>110</td>\n",
       "      <td>3</td>\n",
       "      <td>True</td>\n",
       "    </tr>\n",
       "    <tr>\n",
       "      <th>494</th>\n",
       "      <td>445</td>\n",
       "      <td>GarchompMega Garchomp</td>\n",
       "      <td>Dragon</td>\n",
       "      <td>Ground</td>\n",
       "      <td>700</td>\n",
       "      <td>108</td>\n",
       "      <td>170</td>\n",
       "      <td>115</td>\n",
       "      <td>120</td>\n",
       "      <td>95</td>\n",
       "      <td>92</td>\n",
       "      <td>4</td>\n",
       "      <td>False</td>\n",
       "    </tr>\n",
       "    <tr>\n",
       "      <th>268</th>\n",
       "      <td>248</td>\n",
       "      <td>TyranitarMega Tyranitar</td>\n",
       "      <td>Rock</td>\n",
       "      <td>Dark</td>\n",
       "      <td>700</td>\n",
       "      <td>100</td>\n",
       "      <td>164</td>\n",
       "      <td>150</td>\n",
       "      <td>95</td>\n",
       "      <td>120</td>\n",
       "      <td>71</td>\n",
       "      <td>2</td>\n",
       "      <td>False</td>\n",
       "    </tr>\n",
       "    <tr>\n",
       "      <th>796</th>\n",
       "      <td>719</td>\n",
       "      <td>DiancieMega Diancie</td>\n",
       "      <td>Rock</td>\n",
       "      <td>Fairy</td>\n",
       "      <td>700</td>\n",
       "      <td>50</td>\n",
       "      <td>160</td>\n",
       "      <td>110</td>\n",
       "      <td>160</td>\n",
       "      <td>110</td>\n",
       "      <td>110</td>\n",
       "      <td>6</td>\n",
       "      <td>True</td>\n",
       "    </tr>\n",
       "  </tbody>\n",
       "</table>\n",
       "</div>"
      ],
      "text/plain": [
       "     number                     name   type_1    type_2  total   hp  attack  \\\n",
       "426     384    RayquazaMega Rayquaza   Dragon    Flying    780  105     180   \n",
       "164     150      MewtwoMega Mewtwo Y  Psychic       NaN    780  106     150   \n",
       "163     150      MewtwoMega Mewtwo X  Psychic  Fighting    780  106     190   \n",
       "422     382      KyogrePrimal Kyogre    Water       NaN    770  100     150   \n",
       "424     383    GroudonPrimal Groudon   Ground      Fire    770  100     180   \n",
       "552     493                   Arceus   Normal       NaN    720  120     120   \n",
       "712     646       KyuremWhite Kyurem   Dragon       Ice    700  125     120   \n",
       "711     646       KyuremBlack Kyurem   Dragon       Ice    700  125     170   \n",
       "409     373  SalamenceMega Salamence   Dragon    Flying    700   95     145   \n",
       "413     376  MetagrossMega Metagross    Steel   Psychic    700   80     145   \n",
       "418     380        LatiasMega Latias   Dragon   Psychic    700   80     100   \n",
       "420     381        LatiosMega Latios   Dragon   Psychic    700   80     130   \n",
       "494     445    GarchompMega Garchomp   Dragon    Ground    700  108     170   \n",
       "268     248  TyranitarMega Tyranitar     Rock      Dark    700  100     164   \n",
       "796     719      DiancieMega Diancie     Rock     Fairy    700   50     160   \n",
       "\n",
       "     defense  sp_attack  sp_defense  speed  generation  legendary  \n",
       "426      100        180         100    115           3       True  \n",
       "164       70        194         120    140           1       True  \n",
       "163      100        154         100    130           1       True  \n",
       "422       90        180         160     90           3       True  \n",
       "424      160        150          90     90           3       True  \n",
       "552      120        120         120    120           4       True  \n",
       "712       90        170         100     95           5       True  \n",
       "711      100        120          90     95           5       True  \n",
       "409      130        120          90    120           3      False  \n",
       "413      150        105         110    110           3      False  \n",
       "418      120        140         150    110           3       True  \n",
       "420      100        160         120    110           3       True  \n",
       "494      115        120          95     92           4      False  \n",
       "268      150         95         120     71           2      False  \n",
       "796      110        160         110    110           6       True  "
      ]
     },
     "execution_count": 6,
     "metadata": {},
     "output_type": "execute_result"
    }
   ],
   "source": [
    "data.sort_values('total' ,ascending=False).head(15)"
   ]
  },
  {
   "cell_type": "markdown",
   "metadata": {},
   "source": [
    "As much as our Pokemons being strong, most of them seem to be either a legendary pokemon or a transformed version of the original Pokemon. For now, let's remove all Legendary and transformed versions from the dataset."
   ]
  },
  {
   "cell_type": "code",
   "execution_count": 7,
   "metadata": {},
   "outputs": [],
   "source": [
    "#Transforming Data\n",
    "normalpkm = data.copy()\n",
    "normalpkm = normalpkm[normalpkm['legendary'] == False]\n",
    "normalpkm = normalpkm[~normalpkm['name'].str.contains('Mega')]\n",
    "normalpkm = normalpkm[~normalpkm['name'].str.contains('Forme')]\n",
    "normalpkm = normalpkm[~normalpkm['name'].str.contains('Zen')]"
   ]
  },
  {
   "cell_type": "code",
   "execution_count": 8,
   "metadata": {
    "scrolled": false
   },
   "outputs": [
    {
     "data": {
      "image/png": "[encoded data removed]",
      "text/plain": [
       "<Figure size 1080x720 with 1 Axes>"
      ]
     },
     "metadata": {
      "needs_background": "light"
     },
     "output_type": "display_data"
    }
   ],
   "source": [
    "#Top 15 Pokemons Graph\n",
    "topnormalpkm = normalpkm.sort_values(by = ['total'] ,ascending=False).head(15)\n",
    "y_pos =np.arange(len(topnormalpkm['total']))\n",
    "\n",
    "plt.figure(figsize=(15,10))\n",
    "plt.gca().invert_yaxis()\n",
    "\n",
    "p1 = topnormalpkm['hp']\n",
    "p2 = np.add(p1,topnormalpkm['attack'])\n",
    "p3 = np.add(p2,topnormalpkm['defense'])\n",
    "p4 = np.add(p3,topnormalpkm['sp_attack'])\n",
    "p5 = np.add(p4,topnormalpkm['sp_defense'])\n",
    "\n",
    "plt.barh(topnormalpkm['name'],topnormalpkm['hp'].tolist(), color = 'orangered')\n",
    "plt.barh(topnormalpkm['name'],topnormalpkm['attack'],left = p1.tolist(),color = 'sandybrown')\n",
    "plt.barh(topnormalpkm['name'],topnormalpkm['defense'],left = p2.tolist(),color = 'khaki')\n",
    "plt.barh(topnormalpkm['name'],topnormalpkm['sp_attack'],left = p3.tolist(),color = 'dodgerblue')\n",
    "plt.barh(topnormalpkm['name'],topnormalpkm['sp_defense'],left = p4.tolist(),color = 'mediumseagreen')\n",
    "plt.barh(topnormalpkm['name'],topnormalpkm['speed'],left = p5.tolist(),color = 'violet')\n",
    "\n",
    "plt.title('Top 15 Pokemon')\n",
    "plt.xlabel('Stat Value')\n",
    "plt.ylabel('Pokemon')\n",
    "plt.grid()\n",
    "plt.legend(('HP','Attack','Defense','Special Attack','Special Defense','Speed'))\n",
    "\n",
    "plt.show()"
   ]
  },
  {
   "cell_type": "markdown",
   "metadata": {},
   "source": [
    "Based on the given dataset of the Top 15 Pokemons:\n",
    "\n",
    "- Slaking has the highest base total stat with <b> 670 </b> with its HP and Attack contributing to nearly half of its stats. As a note, Slaking does take a break after an action which may explain the unexpected results (meaning 1 action in 2 turns).\n",
    "- 80% of the top 15 Pokemon seem to have the same total value of <b> 600 </b> This may explain what the top contending Pokemons are in each generation.\n",
    "- Manaphy, Celebi and Mew all have <b> 600 </b> with all its total split equally between all stats.\n",
    "- Initial stages of Pokemon would categorize Manaphy, Celebi, Genesect, Cresselia and Mew as Legendary Pokemons but they are actually considered as a category under 'Mythical' which is not listed within our dataset."
   ]
  },
  {
   "cell_type": "code",
   "execution_count": 9,
   "metadata": {
    "scrolled": false
   },
   "outputs": [
    {
     "data": {
      "image/png": "[encoded data removed]",
      "text/plain": [
       "<Figure size 1080x720 with 1 Axes>"
      ]
     },
     "metadata": {
      "needs_background": "light"
     },
     "output_type": "display_data"
    }
   ],
   "source": [
    "#Bottom 15 Pokemons\n",
    "bottomnormalpkm = normalpkm.sort_values(by = ['total'] ,ascending=True).head(15)\n",
    "y_pos =np.arange(len(bottomnormalpkm['total']))\n",
    "\n",
    "plt.figure(figsize=(15,10))\n",
    "\n",
    "p1 = bottomnormalpkm['hp']\n",
    "p2 = np.add(p1,bottomnormalpkm['attack'])\n",
    "p3 = np.add(p2,bottomnormalpkm['defense'])\n",
    "p4 = np.add(p3,bottomnormalpkm['sp_attack'])\n",
    "p5 = np.add(p4,bottomnormalpkm['sp_defense'])\n",
    "\n",
    "plt.barh(bottomnormalpkm['name'],bottomnormalpkm['hp'].tolist(), color = 'orangered')\n",
    "plt.barh(bottomnormalpkm['name'],bottomnormalpkm['attack'],left = p1.tolist(),color ='sandybrown')\n",
    "plt.barh(bottomnormalpkm['name'],bottomnormalpkm['defense'],left = p2.tolist(),color = 'khaki')\n",
    "plt.barh(bottomnormalpkm['name'],bottomnormalpkm['sp_attack'],left = p3.tolist(),color = 'dodgerblue')\n",
    "plt.barh(bottomnormalpkm['name'],bottomnormalpkm['sp_defense'],left = p4.tolist(),color = 'mediumseagreen')\n",
    "plt.barh(bottomnormalpkm['name'],bottomnormalpkm['speed'],left = p5.tolist(),color = 'violet')\n",
    "\n",
    "plt.grid()\n",
    "plt.xlabel('Stat Value')\n",
    "plt.ylabel('Pokemon')\n",
    "plt.title('Bottom 15 Pokemon')\n",
    "plt.legend(('HP','Attack','Defense','Special Attack','Special Defense','Speed'))\n",
    "plt.gca().invert_yaxis()\n",
    "\n",
    "plt.show()"
   ]
  },
  {
   "cell_type": "markdown",
   "metadata": {},
   "source": [
    "Based on the given graph of the bottom 15 Pokemons:\n",
    "\n",
    "- Sunkern showing the lowest values with a total stat of <b> 180 </b>. It seems that similar to the Mythical Pokemons, Sunkerns values are split evenly across with around 30 each.\n",
    "- The distribution of stats seems to fluctuate significantly in comparison to the top 15 pokemons with Magikarp and Feebas having relatively low HP and attack with high Speed and Defense/Sp Defense\n",
    "- There are some Pokemons which have relatively similar stats within different generations. Silcoon and Cascoon (Gen 3) have the same stats across the board whereas Kakuna and Metapod (Gen 1) have different stats. This may be because of Metapod and Kakuna were evolved from 2 different pokemons whereas Silcoon and Cascoon were evolved from 1 Pokemon\n",
    "- Comparing Weedle and Caterpie, Weedle seems to be the more aggresive one with higher attack and speed with less defense and hp than Caterpie with their evolutions following through."
   ]
  },
  {
   "cell_type": "markdown",
   "metadata": {},
   "source": [
    "The above shows general splits between all Pokemons but what about Pokemons in their own Generations?"
   ]
  },
  {
   "cell_type": "code",
   "execution_count": 10,
   "metadata": {},
   "outputs": [
    {
     "data": {
      "image/png": "[encoded data removed]",
      "text/plain": [
       "<Figure size 1080x1080 with 6 Axes>"
      ]
     },
     "metadata": {
      "needs_background": "light"
     },
     "output_type": "display_data"
    }
   ],
   "source": [
    "#Segragating Top 10 Pokemons into their respective generations\n",
    "top10g1 = normalpkm[normalpkm.generation == 1].sort_values(by=['total'],ascending = False).head(10)\n",
    "top10g2 = normalpkm[normalpkm.generation == 2].sort_values(by=['total'],ascending = False).head(10)\n",
    "top10g3 = normalpkm[normalpkm.generation == 3].sort_values(by=['total'],ascending = False).head(10)\n",
    "top10g4 = normalpkm[normalpkm.generation == 4].sort_values(by=['total'],ascending = False).head(10)\n",
    "top10g5 = normalpkm[normalpkm.generation == 5].sort_values(by=['total'],ascending = False).head(10)\n",
    "top10g6 = normalpkm[normalpkm.generation == 6].sort_values(by=['total'],ascending = False).head(10)\n",
    "\n",
    "plt.figure(figsize=(15,15))\n",
    "\n",
    "plt.subplot(3,2,1)\n",
    "plt.barh(top10g1['name'],top10g1['total'])\n",
    "plt.title('Generation 1')\n",
    "plt.gca().invert_yaxis()\n",
    "\n",
    "plt.subplot(3,2,2)\n",
    "plt.barh(top10g2['name'],top10g2['total'])\n",
    "plt.title('Generation 2')\n",
    "plt.gca().invert_yaxis()\n",
    "\n",
    "plt.subplot(3,2,3)\n",
    "plt.barh(top10g3['name'],top10g3['total'])\n",
    "plt.title('Generation 3')\n",
    "plt.gca().invert_yaxis()\n",
    "\n",
    "plt.subplot(3,2,4)\n",
    "plt.barh(top10g4['name'],top10g4['total'])\n",
    "plt.title('Generation 4')\n",
    "plt.gca().invert_yaxis()\n",
    "\n",
    "plt.subplot(3,2,5)\n",
    "plt.barh(top10g5['name'],top10g5['total'])\n",
    "plt.title('Generation 5')\n",
    "plt.gca().invert_yaxis()\n",
    "\n",
    "plt.subplot(3,2,6)\n",
    "plt.barh(top10g6['name'],top10g6['total'])\n",
    "plt.title('Generation 6')\n",
    "plt.gca().invert_yaxis()"
   ]
  },
  {
   "cell_type": "markdown",
   "metadata": {},
   "source": [
    "After observing the following dataset:\n",
    "\n",
    "- As expected, most of the top pokemon in their generations are classified as Mythical Pokemons. Generation 3 and 6 do not have any Pokemons which do not contain any mythical.\n",
    "- Other than Slaking, the top Pokemon in each Generation have a total stat of 600."
   ]
  },
  {
   "cell_type": "code",
   "execution_count": 11,
   "metadata": {},
   "outputs": [
    {
     "data": {
      "image/png": "[encoded data removed]",
      "text/plain": [
       "<Figure size 1080x1080 with 6 Axes>"
      ]
     },
     "metadata": {
      "needs_background": "light"
     },
     "output_type": "display_data"
    }
   ],
   "source": [
    "#Segragating Bottom 10 Pokemons into Generations\n",
    "bottom10g1 = normalpkm[normalpkm.generation == 1].sort_values(by=['total'],ascending = True).head(10)\n",
    "bottom10g2 = normalpkm[normalpkm.generation == 2].sort_values(by=['total'],ascending = True).head(10)\n",
    "bottom10g3 = normalpkm[normalpkm.generation == 3].sort_values(by=['total'],ascending = True).head(10)\n",
    "bottom10g4 = normalpkm[normalpkm.generation == 4].sort_values(by=['total'],ascending = True).head(10)\n",
    "bottom10g5 = normalpkm[normalpkm.generation == 5].sort_values(by=['total'],ascending = True).head(10)\n",
    "bottom10g6 = normalpkm[normalpkm.generation == 6].sort_values(by=['total'],ascending = True).head(10)\n",
    "\n",
    "plt.figure(figsize=(15,15))\n",
    "plt.subplot(3,2,1)\n",
    "plt.barh(bottom10g1['name'],bottom10g1['total'])\n",
    "plt.title('Generation 1')\n",
    "plt.gca().invert_yaxis()\n",
    "\n",
    "plt.subplot(3,2,2)\n",
    "plt.barh(bottom10g2['name'],bottom10g2['total'])\n",
    "plt.title('Generation 2')\n",
    "plt.gca().invert_yaxis()\n",
    "\n",
    "plt.subplot(3,2,3)\n",
    "plt.barh(bottom10g3['name'],bottom10g3['total'])\n",
    "plt.title('Generation 3')\n",
    "plt.gca().invert_yaxis()\n",
    "\n",
    "plt.subplot(3,2,4)\n",
    "plt.barh(bottom10g4['name'],bottom10g4['total'])\n",
    "plt.title('Generation 4')\n",
    "plt.gca().invert_yaxis()\n",
    "\n",
    "plt.subplot(3,2,5)\n",
    "plt.barh(bottom10g5['name'],bottom10g5['total'])\n",
    "plt.title('Generation 5')\n",
    "plt.gca().invert_yaxis()\n",
    "\n",
    "plt.subplot(3,2,6)\n",
    "plt.barh(bottom10g6['name'],bottom10g6['total'])\n",
    "plt.title('Generation 6')\n",
    "plt.gca().invert_yaxis()"
   ]
  },
  {
   "cell_type": "markdown",
   "metadata": {},
   "source": [
    "## Correlation ##\n",
    "<br>\n",
    "What we want to look into now is if there are any strong correlations between statistics."
   ]
  },
  {
   "cell_type": "code",
   "execution_count": 12,
   "metadata": {},
   "outputs": [
    {
     "data": {
      "text/html": [
       "<div>\n",
       "<style scoped>\n",
       "    .dataframe tbody tr th:only-of-type {\n",
       "        vertical-align: middle;\n",
       "    }\n",
       "\n",
       "    .dataframe tbody tr th {\n",
       "        vertical-align: top;\n",
       "    }\n",
       "\n",
       "    .dataframe thead th {\n",
       "        text-align: right;\n",
       "    }\n",
       "</style>\n",
       "<table border=\"1\" class=\"dataframe\">\n",
       "  <thead>\n",
       "    <tr style=\"text-align: right;\">\n",
       "      <th></th>\n",
       "      <th>hp</th>\n",
       "      <th>attack</th>\n",
       "      <th>defense</th>\n",
       "      <th>sp_attack</th>\n",
       "      <th>sp_defense</th>\n",
       "      <th>speed</th>\n",
       "      <th>total</th>\n",
       "    </tr>\n",
       "  </thead>\n",
       "  <tbody>\n",
       "    <tr>\n",
       "      <th>hp</th>\n",
       "      <td>100</td>\n",
       "      <td>38</td>\n",
       "      <td>16</td>\n",
       "      <td>29</td>\n",
       "      <td>32</td>\n",
       "      <td>9</td>\n",
       "      <td>60</td>\n",
       "    </tr>\n",
       "    <tr>\n",
       "      <th>attack</th>\n",
       "      <td>38</td>\n",
       "      <td>100</td>\n",
       "      <td>41</td>\n",
       "      <td>23</td>\n",
       "      <td>14</td>\n",
       "      <td>26</td>\n",
       "      <td>67</td>\n",
       "    </tr>\n",
       "    <tr>\n",
       "      <th>defense</th>\n",
       "      <td>16</td>\n",
       "      <td>41</td>\n",
       "      <td>100</td>\n",
       "      <td>15</td>\n",
       "      <td>44</td>\n",
       "      <td>-6</td>\n",
       "      <td>58</td>\n",
       "    </tr>\n",
       "    <tr>\n",
       "      <th>sp_attack</th>\n",
       "      <td>29</td>\n",
       "      <td>23</td>\n",
       "      <td>15</td>\n",
       "      <td>100</td>\n",
       "      <td>45</td>\n",
       "      <td>37</td>\n",
       "      <td>67</td>\n",
       "    </tr>\n",
       "    <tr>\n",
       "      <th>sp_defense</th>\n",
       "      <td>32</td>\n",
       "      <td>14</td>\n",
       "      <td>44</td>\n",
       "      <td>45</td>\n",
       "      <td>100</td>\n",
       "      <td>18</td>\n",
       "      <td>67</td>\n",
       "    </tr>\n",
       "    <tr>\n",
       "      <th>speed</th>\n",
       "      <td>9</td>\n",
       "      <td>26</td>\n",
       "      <td>-6</td>\n",
       "      <td>37</td>\n",
       "      <td>18</td>\n",
       "      <td>100</td>\n",
       "      <td>49</td>\n",
       "    </tr>\n",
       "    <tr>\n",
       "      <th>total</th>\n",
       "      <td>60</td>\n",
       "      <td>67</td>\n",
       "      <td>58</td>\n",
       "      <td>67</td>\n",
       "      <td>67</td>\n",
       "      <td>49</td>\n",
       "      <td>100</td>\n",
       "    </tr>\n",
       "  </tbody>\n",
       "</table>\n",
       "</div>"
      ],
      "text/plain": [
       "             hp  attack  defense  sp_attack  sp_defense  speed  total\n",
       "hp          100      38       16         29          32      9     60\n",
       "attack       38     100       41         23          14     26     67\n",
       "defense      16      41      100         15          44     -6     58\n",
       "sp_attack    29      23       15        100          45     37     67\n",
       "sp_defense   32      14       44         45         100     18     67\n",
       "speed         9      26       -6         37          18    100     49\n",
       "total        60      67       58         67          67     49    100"
      ]
     },
     "execution_count": 12,
     "metadata": {},
     "output_type": "execute_result"
    }
   ],
   "source": [
    "corrdf = normalpkm[['hp','attack','defense','sp_attack','sp_defense','speed','total']]\n",
    "corrdf.corr().mul(100).astype(int)"
   ]
  },
  {
   "cell_type": "markdown",
   "metadata": {},
   "source": [
    "A general consensus shows that the higher stats of the pokemon, the higher the total value which makes sense. Other than that, notable correlations would include the combination of:\n",
    "\n",
    "- HP and Attack\n",
    "- Attack and Defense\n",
    "- Special Attack and Special Defense\n",
    "- Defense and Special Defense"
   ]
  },
  {
   "cell_type": "markdown",
   "metadata": {},
   "source": [
    "### HP and Attack ###"
   ]
  },
  {
   "cell_type": "code",
   "execution_count": 13,
   "metadata": {},
   "outputs": [
    {
     "data": {
      "image/png": "[encoded data removed]",
      "text/plain": [
       "<Figure size 1080x720 with 1 Axes>"
      ]
     },
     "metadata": {
      "needs_background": "light"
     },
     "output_type": "display_data"
    }
   ],
   "source": [
    "plt.figure(figsize=(15,10))\n",
    "plt.scatter(corrdf['hp'],corrdf['attack'])\n",
    "plt.xlabel('HP')\n",
    "plt.ylabel('Attack')\n",
    "plt.title('Correlation between HP and Attack')\n",
    "plt.show()"
   ]
  },
  {
   "cell_type": "markdown",
   "metadata": {},
   "source": [
    "We can see a positive correlation going between HP and Attack in general. What has thrown the correlation value between the two seems to be two values which have significantly high hp with low attack. Let's see whether we can find these pokemons."
   ]
  },
  {
   "cell_type": "code",
   "execution_count": 14,
   "metadata": {},
   "outputs": [
    {
     "data": {
      "text/html": [
       "<div>\n",
       "<style scoped>\n",
       "    .dataframe tbody tr th:only-of-type {\n",
       "        vertical-align: middle;\n",
       "    }\n",
       "\n",
       "    .dataframe tbody tr th {\n",
       "        vertical-align: top;\n",
       "    }\n",
       "\n",
       "    .dataframe thead th {\n",
       "        text-align: right;\n",
       "    }\n",
       "</style>\n",
       "<table border=\"1\" class=\"dataframe\">\n",
       "  <thead>\n",
       "    <tr style=\"text-align: right;\">\n",
       "      <th></th>\n",
       "      <th>number</th>\n",
       "      <th>name</th>\n",
       "      <th>type_1</th>\n",
       "      <th>type_2</th>\n",
       "      <th>total</th>\n",
       "      <th>hp</th>\n",
       "      <th>attack</th>\n",
       "      <th>defense</th>\n",
       "      <th>sp_attack</th>\n",
       "      <th>sp_defense</th>\n",
       "      <th>speed</th>\n",
       "      <th>generation</th>\n",
       "      <th>legendary</th>\n",
       "    </tr>\n",
       "  </thead>\n",
       "  <tbody>\n",
       "    <tr>\n",
       "      <th>121</th>\n",
       "      <td>113</td>\n",
       "      <td>Chansey</td>\n",
       "      <td>Normal</td>\n",
       "      <td>NaN</td>\n",
       "      <td>450</td>\n",
       "      <td>250</td>\n",
       "      <td>5</td>\n",
       "      <td>5</td>\n",
       "      <td>35</td>\n",
       "      <td>105</td>\n",
       "      <td>50</td>\n",
       "      <td>1</td>\n",
       "      <td>False</td>\n",
       "    </tr>\n",
       "    <tr>\n",
       "      <th>261</th>\n",
       "      <td>242</td>\n",
       "      <td>Blissey</td>\n",
       "      <td>Normal</td>\n",
       "      <td>NaN</td>\n",
       "      <td>540</td>\n",
       "      <td>255</td>\n",
       "      <td>10</td>\n",
       "      <td>10</td>\n",
       "      <td>75</td>\n",
       "      <td>135</td>\n",
       "      <td>55</td>\n",
       "      <td>2</td>\n",
       "      <td>False</td>\n",
       "    </tr>\n",
       "  </tbody>\n",
       "</table>\n",
       "</div>"
      ],
      "text/plain": [
       "     number     name  type_1 type_2  total   hp  attack  defense  sp_attack  \\\n",
       "121     113  Chansey  Normal    NaN    450  250       5        5         35   \n",
       "261     242  Blissey  Normal    NaN    540  255      10       10         75   \n",
       "\n",
       "     sp_defense  speed  generation  legendary  \n",
       "121         105     50           1      False  \n",
       "261         135     55           2      False  "
      ]
     },
     "execution_count": 14,
     "metadata": {},
     "output_type": "execute_result"
    }
   ],
   "source": [
    "normalpkm[normalpkm['hp'] >= 250]"
   ]
  },
  {
   "cell_type": "markdown",
   "metadata": {},
   "source": [
    "Seems like the two pokemon which has thrown the values off are Chansey and their eveolution Blissey with incredibly nonexistent attack. These pokemon seem to have the highest values in terms of HP out of all the normal pokemon which is offset from their low attack and defense."
   ]
  },
  {
   "cell_type": "markdown",
   "metadata": {},
   "source": [
    "### Attack and Defense ###"
   ]
  },
  {
   "cell_type": "code",
   "execution_count": 15,
   "metadata": {},
   "outputs": [
    {
     "data": {
      "image/png": "[encoded data removed]",
      "text/plain": [
       "<Figure size 1080x720 with 1 Axes>"
      ]
     },
     "metadata": {
      "needs_background": "light"
     },
     "output_type": "display_data"
    }
   ],
   "source": [
    "plt.figure(figsize=(15,10))\n",
    "plt.scatter(corrdf['attack'],corrdf['defense'])\n",
    "plt.xlabel('Attack')\n",
    "plt.ylabel('Defense')\n",
    "plt.title('Correlation between Attack and Defense')\n",
    "plt.show()"
   ]
  },
  {
   "cell_type": "markdown",
   "metadata": {},
   "source": [
    "Another relatively positive trend between attack and defense. We seems to have an outlier again with extremely low attack with high defense however."
   ]
  },
  {
   "cell_type": "code",
   "execution_count": 16,
   "metadata": {},
   "outputs": [
    {
     "data": {
      "text/html": [
       "<div>\n",
       "<style scoped>\n",
       "    .dataframe tbody tr th:only-of-type {\n",
       "        vertical-align: middle;\n",
       "    }\n",
       "\n",
       "    .dataframe tbody tr th {\n",
       "        vertical-align: top;\n",
       "    }\n",
       "\n",
       "    .dataframe thead th {\n",
       "        text-align: right;\n",
       "    }\n",
       "</style>\n",
       "<table border=\"1\" class=\"dataframe\">\n",
       "  <thead>\n",
       "    <tr style=\"text-align: right;\">\n",
       "      <th></th>\n",
       "      <th>number</th>\n",
       "      <th>name</th>\n",
       "      <th>type_1</th>\n",
       "      <th>type_2</th>\n",
       "      <th>total</th>\n",
       "      <th>hp</th>\n",
       "      <th>attack</th>\n",
       "      <th>defense</th>\n",
       "      <th>sp_attack</th>\n",
       "      <th>sp_defense</th>\n",
       "      <th>speed</th>\n",
       "      <th>generation</th>\n",
       "      <th>legendary</th>\n",
       "    </tr>\n",
       "  </thead>\n",
       "  <tbody>\n",
       "    <tr>\n",
       "      <th>230</th>\n",
       "      <td>213</td>\n",
       "      <td>Shuckle</td>\n",
       "      <td>Bug</td>\n",
       "      <td>Rock</td>\n",
       "      <td>505</td>\n",
       "      <td>20</td>\n",
       "      <td>10</td>\n",
       "      <td>230</td>\n",
       "      <td>10</td>\n",
       "      <td>230</td>\n",
       "      <td>5</td>\n",
       "      <td>2</td>\n",
       "      <td>False</td>\n",
       "    </tr>\n",
       "  </tbody>\n",
       "</table>\n",
       "</div>"
      ],
      "text/plain": [
       "     number     name type_1 type_2  total  hp  attack  defense  sp_attack  \\\n",
       "230     213  Shuckle    Bug   Rock    505  20      10      230         10   \n",
       "\n",
       "     sp_defense  speed  generation  legendary  \n",
       "230         230      5           2      False  "
      ]
     },
     "execution_count": 16,
     "metadata": {},
     "output_type": "execute_result"
    }
   ],
   "source": [
    "normalpkm[normalpkm['defense'] > 200]"
   ]
  },
  {
   "cell_type": "markdown",
   "metadata": {},
   "source": [
    "Similar to the correlation between HP and Attack, Shuckles seems to have offset their damage to have an insange amount of defense and special defense. "
   ]
  },
  {
   "cell_type": "markdown",
   "metadata": {},
   "source": [
    "### Special Attack and Special Defense ###"
   ]
  },
  {
   "cell_type": "code",
   "execution_count": 17,
   "metadata": {},
   "outputs": [
    {
     "data": {
      "image/png": "[encoded data removed]",
      "text/plain": [
       "<Figure size 1080x720 with 1 Axes>"
      ]
     },
     "metadata": {
      "needs_background": "light"
     },
     "output_type": "display_data"
    }
   ],
   "source": [
    "plt.figure(figsize=(15,10))\n",
    "plt.scatter(corrdf['sp_attack'],corrdf['sp_defense'])\n",
    "plt.xlabel('Special Attack')\n",
    "plt.ylabel('Special Defense')\n",
    "plt.show()"
   ]
  },
  {
   "cell_type": "markdown",
   "metadata": {},
   "source": [
    "Another generally positive trend between the two metrics with another outlier shown. "
   ]
  },
  {
   "cell_type": "code",
   "execution_count": 18,
   "metadata": {},
   "outputs": [
    {
     "data": {
      "text/html": [
       "<div>\n",
       "<style scoped>\n",
       "    .dataframe tbody tr th:only-of-type {\n",
       "        vertical-align: middle;\n",
       "    }\n",
       "\n",
       "    .dataframe tbody tr th {\n",
       "        vertical-align: top;\n",
       "    }\n",
       "\n",
       "    .dataframe thead th {\n",
       "        text-align: right;\n",
       "    }\n",
       "</style>\n",
       "<table border=\"1\" class=\"dataframe\">\n",
       "  <thead>\n",
       "    <tr style=\"text-align: right;\">\n",
       "      <th></th>\n",
       "      <th>number</th>\n",
       "      <th>name</th>\n",
       "      <th>type_1</th>\n",
       "      <th>type_2</th>\n",
       "      <th>total</th>\n",
       "      <th>hp</th>\n",
       "      <th>attack</th>\n",
       "      <th>defense</th>\n",
       "      <th>sp_attack</th>\n",
       "      <th>sp_defense</th>\n",
       "      <th>speed</th>\n",
       "      <th>generation</th>\n",
       "      <th>legendary</th>\n",
       "    </tr>\n",
       "  </thead>\n",
       "  <tbody>\n",
       "    <tr>\n",
       "      <th>230</th>\n",
       "      <td>213</td>\n",
       "      <td>Shuckle</td>\n",
       "      <td>Bug</td>\n",
       "      <td>Rock</td>\n",
       "      <td>505</td>\n",
       "      <td>20</td>\n",
       "      <td>10</td>\n",
       "      <td>230</td>\n",
       "      <td>10</td>\n",
       "      <td>230</td>\n",
       "      <td>5</td>\n",
       "      <td>2</td>\n",
       "      <td>False</td>\n",
       "    </tr>\n",
       "  </tbody>\n",
       "</table>\n",
       "</div>"
      ],
      "text/plain": [
       "     number     name type_1 type_2  total  hp  attack  defense  sp_attack  \\\n",
       "230     213  Shuckle    Bug   Rock    505  20      10      230         10   \n",
       "\n",
       "     sp_defense  speed  generation  legendary  \n",
       "230         230      5           2      False  "
      ]
     },
     "execution_count": 18,
     "metadata": {},
     "output_type": "execute_result"
    }
   ],
   "source": [
    "normalpkm[normalpkm['sp_defense']>200]"
   ]
  },
  {
   "cell_type": "markdown",
   "metadata": {},
   "source": [
    "Seems like Shuckle also affects the same with the attack and defense in both situation."
   ]
  },
  {
   "cell_type": "markdown",
   "metadata": {},
   "source": [
    "### Defense and Special Defense ###"
   ]
  },
  {
   "cell_type": "code",
   "execution_count": 19,
   "metadata": {},
   "outputs": [
    {
     "data": {
      "image/png": "[encoded data removed]",
      "text/plain": [
       "<Figure size 1080x720 with 1 Axes>"
      ]
     },
     "metadata": {
      "needs_background": "light"
     },
     "output_type": "display_data"
    }
   ],
   "source": [
    "plt.figure(figsize = (15,10))\n",
    "plt.scatter(corrdf['defense'],corrdf['sp_defense'])\n",
    "plt.xlabel('Defense')\n",
    "plt.ylabel('Special Defense')\n",
    "plt.show()"
   ]
  },
  {
   "cell_type": "markdown",
   "metadata": {},
   "source": [
    "In general, no pokemon seem to be outside of the general consensus of being abnormal within this correlation. Some pokemon seem to have higher values in one than the other based on the what is given but none shows as much impact as the other 3 correlation. <br>\n",
    "Using our previous correlation graphs, it seems that Shuckles is at the very top right."
   ]
  },
  {
   "cell_type": "markdown",
   "metadata": {},
   "source": [
    "With some of the pokemons affecting our correlation, let's remove them and see whether this improves our values for correlation.* Look into updating this *"
   ]
  },
  {
   "cell_type": "markdown",
   "metadata": {},
   "source": [
    "## Type ##"
   ]
  },
  {
   "cell_type": "markdown",
   "metadata": {},
   "source": [
    "What we are going to start doing is to investigate how the types of pokemon go for their stats and whether there are some pokemons which are specifically stronger in some stats in comparison to others. Type 1 and Type 2 seem to be split which would be causing some issues so what we will do is combine the 2 columns into 1 and focus on the types and the stats.<br>\n",
    "As a note, there will be pokemons with 2 types however we are focusing on the element and their stats."
   ]
  },
  {
   "cell_type": "code",
   "execution_count": 20,
   "metadata": {},
   "outputs": [
    {
     "data": {
      "text/html": [
       "<div>\n",
       "<style scoped>\n",
       "    .dataframe tbody tr th:only-of-type {\n",
       "        vertical-align: middle;\n",
       "    }\n",
       "\n",
       "    .dataframe tbody tr th {\n",
       "        vertical-align: top;\n",
       "    }\n",
       "\n",
       "    .dataframe thead th {\n",
       "        text-align: right;\n",
       "    }\n",
       "</style>\n",
       "<table border=\"1\" class=\"dataframe\">\n",
       "  <thead>\n",
       "    <tr style=\"text-align: right;\">\n",
       "      <th></th>\n",
       "      <th>number</th>\n",
       "      <th>name</th>\n",
       "      <th>type</th>\n",
       "      <th>total</th>\n",
       "      <th>hp</th>\n",
       "      <th>attack</th>\n",
       "      <th>defense</th>\n",
       "      <th>sp_attack</th>\n",
       "      <th>sp_defense</th>\n",
       "      <th>speed</th>\n",
       "      <th>generation</th>\n",
       "      <th>legendary</th>\n",
       "    </tr>\n",
       "  </thead>\n",
       "  <tbody>\n",
       "    <tr>\n",
       "      <th>0</th>\n",
       "      <td>1</td>\n",
       "      <td>Bulbasaur</td>\n",
       "      <td>Grass</td>\n",
       "      <td>318</td>\n",
       "      <td>45</td>\n",
       "      <td>49</td>\n",
       "      <td>49</td>\n",
       "      <td>65</td>\n",
       "      <td>65</td>\n",
       "      <td>45</td>\n",
       "      <td>1</td>\n",
       "      <td>False</td>\n",
       "    </tr>\n",
       "    <tr>\n",
       "      <th>0</th>\n",
       "      <td>1</td>\n",
       "      <td>Bulbasaur</td>\n",
       "      <td>Poison</td>\n",
       "      <td>318</td>\n",
       "      <td>45</td>\n",
       "      <td>49</td>\n",
       "      <td>49</td>\n",
       "      <td>65</td>\n",
       "      <td>65</td>\n",
       "      <td>45</td>\n",
       "      <td>1</td>\n",
       "      <td>False</td>\n",
       "    </tr>\n",
       "    <tr>\n",
       "      <th>1</th>\n",
       "      <td>2</td>\n",
       "      <td>Ivysaur</td>\n",
       "      <td>Grass</td>\n",
       "      <td>405</td>\n",
       "      <td>60</td>\n",
       "      <td>62</td>\n",
       "      <td>63</td>\n",
       "      <td>80</td>\n",
       "      <td>80</td>\n",
       "      <td>60</td>\n",
       "      <td>1</td>\n",
       "      <td>False</td>\n",
       "    </tr>\n",
       "    <tr>\n",
       "      <th>1</th>\n",
       "      <td>2</td>\n",
       "      <td>Ivysaur</td>\n",
       "      <td>Poison</td>\n",
       "      <td>405</td>\n",
       "      <td>60</td>\n",
       "      <td>62</td>\n",
       "      <td>63</td>\n",
       "      <td>80</td>\n",
       "      <td>80</td>\n",
       "      <td>60</td>\n",
       "      <td>1</td>\n",
       "      <td>False</td>\n",
       "    </tr>\n",
       "    <tr>\n",
       "      <th>2</th>\n",
       "      <td>3</td>\n",
       "      <td>Venusaur</td>\n",
       "      <td>Grass</td>\n",
       "      <td>525</td>\n",
       "      <td>80</td>\n",
       "      <td>82</td>\n",
       "      <td>83</td>\n",
       "      <td>100</td>\n",
       "      <td>100</td>\n",
       "      <td>80</td>\n",
       "      <td>1</td>\n",
       "      <td>False</td>\n",
       "    </tr>\n",
       "  </tbody>\n",
       "</table>\n",
       "</div>"
      ],
      "text/plain": [
       "   number       name    type  total  hp  attack  defense  sp_attack  \\\n",
       "0       1  Bulbasaur   Grass    318  45      49       49         65   \n",
       "0       1  Bulbasaur  Poison    318  45      49       49         65   \n",
       "1       2    Ivysaur   Grass    405  60      62       63         80   \n",
       "1       2    Ivysaur  Poison    405  60      62       63         80   \n",
       "2       3   Venusaur   Grass    525  80      82       83        100   \n",
       "\n",
       "   sp_defense  speed  generation  legendary  \n",
       "0          65     45           1      False  \n",
       "0          65     45           1      False  \n",
       "1          80     60           1      False  \n",
       "1          80     60           1      False  \n",
       "2         100     80           1      False  "
      ]
     },
     "execution_count": 20,
     "metadata": {},
     "output_type": "execute_result"
    }
   ],
   "source": [
    "type1pkm = normalpkm.drop(\"type_2\",axis = 1)\n",
    "type1pkm = type1pkm.rename(columns = {'type_1':'type'})\n",
    "type2pkm = normalpkm.drop(\"type_1\",axis = 1)\n",
    "type2pkm = type2pkm.rename(columns = {'type_2':'type'})\n",
    "type2pkm = type2pkm.dropna()\n",
    "typepkm = pd.concat([type1pkm,type2pkm],sort = False)\n",
    "typepkm = typepkm.sort_values(by = ['number'] ,ascending=True)\n",
    "typepkm.head()"
   ]
  },
  {
   "cell_type": "markdown",
   "metadata": {},
   "source": [
    "As intended, the data has been aggregated into 1 column to identify how elements do. Let's first observe how many unique values exist within the database"
   ]
  },
  {
   "cell_type": "code",
   "execution_count": 21,
   "metadata": {},
   "outputs": [
    {
     "name": "stdout",
     "output_type": "stream",
     "text": [
      "['Grass' 'Poison' 'Fire' 'Flying' 'Water' 'Bug' 'Normal' 'Electric'\n",
      " 'Ground' 'Fairy' 'Fighting' 'Psychic' 'Rock' 'Steel' 'Ice' 'Ghost'\n",
      " 'Dragon' 'Dark']\n"
     ]
    },
    {
     "data": {
      "text/plain": [
       "18"
      ]
     },
     "execution_count": 21,
     "metadata": {},
     "output_type": "execute_result"
    }
   ],
   "source": [
    "print(typepkm.type.unique())\n",
    "len(typepkm.type.unique())"
   ]
  },
  {
   "cell_type": "code",
   "execution_count": 22,
   "metadata": {},
   "outputs": [],
   "source": [
    "meantypepkm = typepkm.groupby(typepkm['type']).mean()"
   ]
  },
  {
   "cell_type": "markdown",
   "metadata": {},
   "source": [
    "### Top 3 Elements by Stats ###"
   ]
  },
  {
   "cell_type": "code",
   "execution_count": 23,
   "metadata": {},
   "outputs": [
    {
     "data": {
      "image/png": "[encoded data removed]",
      "text/plain": [
       "<Figure size 720x720 with 6 Axes>"
      ]
     },
     "metadata": {
      "needs_background": "light"
     },
     "output_type": "display_data"
    }
   ],
   "source": [
    "#Top 3 Elements\n",
    "top3hp =meantypepkm.sort_values(by = ['hp'] ,ascending=False).head(3)\n",
    "top3attack=meantypepkm.sort_values(by = ['attack'] ,ascending=False).head(3)\n",
    "top3defense=meantypepkm.sort_values(by = ['defense'] ,ascending=False).head(3)\n",
    "top3spattack =meantypepkm.sort_values(by = ['sp_attack'] ,ascending=False).head(3)\n",
    "top3spdefense=meantypepkm.sort_values(by = ['sp_defense'] ,ascending=False).head(3)\n",
    "top3speed=meantypepkm.sort_values(by = ['speed'] ,ascending=False).head(3)\n",
    "\n",
    "plt.figure(figsize=(10,10))\n",
    "\n",
    "plt.subplot(3,2,1)\n",
    "plt.barh(top3hp.index,top3hp['hp'], color = 'orangered')\n",
    "plt.title('HP')\n",
    "plt.gca().invert_yaxis()\n",
    "\n",
    "plt.subplot(3,2,2)\n",
    "plt.barh(top3attack.index,top3attack['attack'],color ='sandybrown')\n",
    "plt.title('Attack')\n",
    "plt.gca().invert_yaxis()\n",
    "\n",
    "plt.subplot(3,2,3)\n",
    "plt.barh(top3defense.index,top3defense['defense'],color = 'khaki')\n",
    "plt.title('Defense')\n",
    "plt.gca().invert_yaxis()\n",
    "\n",
    "plt.subplot(3,2,4)\n",
    "plt.barh(top3spattack.index,top3spattack['sp_attack'],color = 'dodgerblue')\n",
    "plt.title('Special Attack')\n",
    "plt.gca().invert_yaxis()\n",
    "\n",
    "plt.subplot(3,2,5)\n",
    "plt.barh(top3spdefense.index,top3spdefense['sp_defense'],color = 'mediumseagreen')\n",
    "plt.title('Special Defense')\n",
    "plt.gca().invert_yaxis()\n",
    "\n",
    "plt.subplot(3,2,6)\n",
    "plt.barh(top3speed.index,top3speed['speed'],color = 'violet')\n",
    "plt.title('Speed')\n",
    "plt.gca().invert_yaxis()"
   ]
  },
  {
   "cell_type": "markdown",
   "metadata": {},
   "source": [
    "### Bottom 3 Elements by Stats ###"
   ]
  },
  {
   "cell_type": "code",
   "execution_count": 24,
   "metadata": {},
   "outputs": [
    {
     "data": {
      "image/png": "[encoded data removed]",
      "text/plain": [
       "<Figure size 720x720 with 6 Axes>"
      ]
     },
     "metadata": {
      "needs_background": "light"
     },
     "output_type": "display_data"
    }
   ],
   "source": [
    "bottom3hp =meantypepkm.sort_values(by = ['hp'] ,ascending=True).head(3)\n",
    "bottom3attack=meantypepkm.sort_values(by = ['attack'] ,ascending=True).head(3)\n",
    "bottom3defense=meantypepkm.sort_values(by = ['defense'] ,ascending=True).head(3)\n",
    "bottom3spattack =meantypepkm.sort_values(by = ['sp_attack'] ,ascending=True).head(3)\n",
    "bottom3spdefense=meantypepkm.sort_values(by = ['sp_defense'] ,ascending=True).head(3)\n",
    "bottom3speed=meantypepkm.sort_values(by = ['speed'] ,ascending=True).head(3)\n",
    "\n",
    "plt.figure(figsize=(10,10))\n",
    "plt.subplot(3,2,1)\n",
    "plt.barh(bottom3hp.index,bottom3hp['hp'], color = 'orangered')\n",
    "plt.title('HP')\n",
    "plt.gca().invert_yaxis()\n",
    "\n",
    "plt.subplot(3,2,2)\n",
    "plt.barh(bottom3attack.index,bottom3attack['attack'],color ='sandybrown')\n",
    "plt.title('Attack')\n",
    "plt.gca().invert_yaxis()\n",
    "\n",
    "plt.subplot(3,2,3)\n",
    "plt.barh(bottom3defense.index,bottom3defense['defense'],color = 'khaki')\n",
    "plt.title('Defense')\n",
    "plt.gca().invert_yaxis()\n",
    "\n",
    "plt.subplot(3,2,4)\n",
    "plt.barh(bottom3spattack.index,bottom3spattack['sp_attack'],color = 'dodgerblue')\n",
    "plt.title('Special Attack')\n",
    "plt.gca().invert_yaxis()\n",
    "\n",
    "plt.subplot(3,2,5)\n",
    "plt.barh(bottom3spdefense.index,bottom3spdefense['sp_defense'],color = 'mediumseagreen')\n",
    "plt.title('Special Defense')\n",
    "plt.gca().invert_yaxis()\n",
    "\n",
    "plt.subplot(3,2,6)\n",
    "plt.barh(bottom3speed.index,bottom3speed['speed'],color = 'violet')\n",
    "plt.title('Speed')\n",
    "plt.gca().invert_yaxis()"
   ]
  },
  {
   "cell_type": "markdown",
   "metadata": {},
   "source": [
    "In general, we can see how each element is doing in their category. Notable ones include the following:\n",
    "\n",
    "- Normal Pokemon seems to have the highest average HP however this is offset with having the lowest average Defense and Special Defense\n",
    "- Steel Pokemons seems to have the highest average Defense and second highest average special defense but also having the second lowest average speed\n",
    "- Bug Pokemons have the lowest average HP and special attack with a decently low special defense average\n",
    "- Ground Pokemons have the high average HP and defense which is offset with the low average special attack and special defense"
   ]
  },
  {
   "cell_type": "markdown",
   "metadata": {},
   "source": [
    "### Total Stats by Elements ###"
   ]
  },
  {
   "cell_type": "code",
   "execution_count": 25,
   "metadata": {},
   "outputs": [
    {
     "data": {
      "image/png": "[encoded data removed]",
      "text/plain": [
       "<Figure size 1080x720 with 1 Axes>"
      ]
     },
     "metadata": {
      "needs_background": "light"
     },
     "output_type": "display_data"
    }
   ],
   "source": [
    "typebytotal = meantypepkm.sort_values(by='total',ascending = True)\n",
    "\n",
    "plt.figure(figsize=(15,10))\n",
    "\n",
    "p1 = typebytotal['hp']\n",
    "p2 = np.add(p1,typebytotal['attack'])\n",
    "p3 = np.add(p2,typebytotal['defense'])\n",
    "p4 = np.add(p3,typebytotal['sp_attack'])\n",
    "p5 = np.add(p4,typebytotal['sp_defense'])\n",
    "\n",
    "plt.barh(typebytotal.index,typebytotal['hp'].tolist(), color = 'orangered')\n",
    "plt.barh(typebytotal.index,typebytotal['attack'],left = p1.tolist(),color ='sandybrown')\n",
    "plt.barh(typebytotal.index,typebytotal['defense'],left = p2.tolist(),color = 'khaki')\n",
    "plt.barh(typebytotal.index,typebytotal['sp_attack'],left = p3.tolist(),color = 'dodgerblue')\n",
    "plt.barh(typebytotal.index,typebytotal['sp_defense'],left = p4.tolist(),color = 'mediumseagreen')\n",
    "plt.barh(typebytotal.index,typebytotal['speed'],left = p5.tolist(),color = 'violet')\n",
    "\n",
    "plt.grid()\n",
    "plt.legend(('HP','Attack','Defense','Special Attack','Special Defense','Speed'))\n",
    "plt.xlabel('Total')\n",
    "plt.ylabel('Type')\n",
    "plt.title('Total by Element')\n",
    "plt.show()"
   ]
  },
  {
   "cell_type": "markdown",
   "metadata": {},
   "source": [
    "With their individual stats, we see some familiar elements with bug, Normal and Fairy. Posion and Grass showing up out of nowhere with no values within the bottom 3 tables which is a bit surprising.\n",
    "\n",
    "- Steel having the highest average total stats. Looking at the distribution of stats, it seems our previous analysis holds true\n",
    "- Bug, Normal and Fairy are at the bottom in terms of the average total stats. Most of these seems to be relevant with a lot of their average stats being in the bottom 3\n",
    "- Dragon and Ice being the 2nd and 3rd highest average total scores. Based on our previous analysis, Ice had the 2nd highest average HP whereas Dragon had the 2nd highest attack\n",
    "- Out of the three original starter element (Grass, Water and Fire), it seems that Fire has the highest average stat being 7th whereas Grass is the lowest at 13th"
   ]
  },
  {
   "cell_type": "markdown",
   "metadata": {},
   "source": [
    "# Machine Learning#\n",
    "So we've done some simple analysis on the pokemons and their elements. Pokemon is a popular evolving community with many new pokemons to be introduced and what we want to do is see whether we can create a model to identify whether a pokemon is legendary or not.\n",
    "\n",
    "We will be splitting the data set into 2 parts. One part will be the training model which is what will be learned. The second part will be the test model where we see whether we can identify whether the pokemon is a legendary or not. We will be using our original data set for this scenario."
   ]
  },
  {
   "cell_type": "markdown",
   "metadata": {},
   "source": [
    "## Legendary Machine Learning ##"
   ]
  },
  {
   "cell_type": "code",
   "execution_count": 26,
   "metadata": {},
   "outputs": [
    {
     "data": {
      "text/html": [
       "<div>\n",
       "<style scoped>\n",
       "    .dataframe tbody tr th:only-of-type {\n",
       "        vertical-align: middle;\n",
       "    }\n",
       "\n",
       "    .dataframe tbody tr th {\n",
       "        vertical-align: top;\n",
       "    }\n",
       "\n",
       "    .dataframe thead th {\n",
       "        text-align: right;\n",
       "    }\n",
       "</style>\n",
       "<table border=\"1\" class=\"dataframe\">\n",
       "  <thead>\n",
       "    <tr style=\"text-align: right;\">\n",
       "      <th></th>\n",
       "      <th>number</th>\n",
       "      <th>name</th>\n",
       "      <th>type_1</th>\n",
       "      <th>type_2</th>\n",
       "      <th>total</th>\n",
       "      <th>hp</th>\n",
       "      <th>attack</th>\n",
       "      <th>defense</th>\n",
       "      <th>sp_attack</th>\n",
       "      <th>sp_defense</th>\n",
       "      <th>speed</th>\n",
       "      <th>generation</th>\n",
       "      <th>legendary</th>\n",
       "    </tr>\n",
       "  </thead>\n",
       "  <tbody>\n",
       "    <tr>\n",
       "      <th>0</th>\n",
       "      <td>1</td>\n",
       "      <td>Bulbasaur</td>\n",
       "      <td>Grass</td>\n",
       "      <td>Poison</td>\n",
       "      <td>318</td>\n",
       "      <td>45</td>\n",
       "      <td>49</td>\n",
       "      <td>49</td>\n",
       "      <td>65</td>\n",
       "      <td>65</td>\n",
       "      <td>45</td>\n",
       "      <td>1</td>\n",
       "      <td>False</td>\n",
       "    </tr>\n",
       "    <tr>\n",
       "      <th>1</th>\n",
       "      <td>2</td>\n",
       "      <td>Ivysaur</td>\n",
       "      <td>Grass</td>\n",
       "      <td>Poison</td>\n",
       "      <td>405</td>\n",
       "      <td>60</td>\n",
       "      <td>62</td>\n",
       "      <td>63</td>\n",
       "      <td>80</td>\n",
       "      <td>80</td>\n",
       "      <td>60</td>\n",
       "      <td>1</td>\n",
       "      <td>False</td>\n",
       "    </tr>\n",
       "    <tr>\n",
       "      <th>2</th>\n",
       "      <td>3</td>\n",
       "      <td>Venusaur</td>\n",
       "      <td>Grass</td>\n",
       "      <td>Poison</td>\n",
       "      <td>525</td>\n",
       "      <td>80</td>\n",
       "      <td>82</td>\n",
       "      <td>83</td>\n",
       "      <td>100</td>\n",
       "      <td>100</td>\n",
       "      <td>80</td>\n",
       "      <td>1</td>\n",
       "      <td>False</td>\n",
       "    </tr>\n",
       "    <tr>\n",
       "      <th>3</th>\n",
       "      <td>3</td>\n",
       "      <td>VenusaurMega Venusaur</td>\n",
       "      <td>Grass</td>\n",
       "      <td>Poison</td>\n",
       "      <td>625</td>\n",
       "      <td>80</td>\n",
       "      <td>100</td>\n",
       "      <td>123</td>\n",
       "      <td>122</td>\n",
       "      <td>120</td>\n",
       "      <td>80</td>\n",
       "      <td>1</td>\n",
       "      <td>False</td>\n",
       "    </tr>\n",
       "    <tr>\n",
       "      <th>4</th>\n",
       "      <td>4</td>\n",
       "      <td>Charmander</td>\n",
       "      <td>Fire</td>\n",
       "      <td>NaN</td>\n",
       "      <td>309</td>\n",
       "      <td>39</td>\n",
       "      <td>52</td>\n",
       "      <td>43</td>\n",
       "      <td>60</td>\n",
       "      <td>50</td>\n",
       "      <td>65</td>\n",
       "      <td>1</td>\n",
       "      <td>False</td>\n",
       "    </tr>\n",
       "  </tbody>\n",
       "</table>\n",
       "</div>"
      ],
      "text/plain": [
       "   number                   name type_1  type_2  total  hp  attack  defense  \\\n",
       "0       1              Bulbasaur  Grass  Poison    318  45      49       49   \n",
       "1       2                Ivysaur  Grass  Poison    405  60      62       63   \n",
       "2       3               Venusaur  Grass  Poison    525  80      82       83   \n",
       "3       3  VenusaurMega Venusaur  Grass  Poison    625  80     100      123   \n",
       "4       4             Charmander   Fire     NaN    309  39      52       43   \n",
       "\n",
       "   sp_attack  sp_defense  speed  generation  legendary  \n",
       "0         65          65     45           1      False  \n",
       "1         80          80     60           1      False  \n",
       "2        100         100     80           1      False  \n",
       "3        122         120     80           1      False  \n",
       "4         60          50     65           1      False  "
      ]
     },
     "execution_count": 26,
     "metadata": {},
     "output_type": "execute_result"
    }
   ],
   "source": [
    "data.head()"
   ]
  },
  {
   "cell_type": "code",
   "execution_count": 27,
   "metadata": {},
   "outputs": [],
   "source": [
    "X=data[['total','hp','attack','defense','sp_attack','sp_defense','speed']].copy()\n",
    "y=data[['legendary']].copy()"
   ]
  },
  {
   "cell_type": "code",
   "execution_count": 28,
   "metadata": {},
   "outputs": [],
   "source": [
    "X_train, X_test, y_train, y_test = train_test_split(X, y, test_size=0.33, random_state=324)"
   ]
  },
  {
   "cell_type": "code",
   "execution_count": 29,
   "metadata": {
    "scrolled": true
   },
   "outputs": [
    {
     "data": {
      "text/plain": [
       "DecisionTreeClassifier(class_weight=None, criterion='gini', max_depth=None,\n",
       "            max_features=None, max_leaf_nodes=10,\n",
       "            min_impurity_decrease=0.0, min_impurity_split=None,\n",
       "            min_samples_leaf=1, min_samples_split=2,\n",
       "            min_weight_fraction_leaf=0.0, presort=False, random_state=0,\n",
       "            splitter='best')"
      ]
     },
     "execution_count": 29,
     "metadata": {},
     "output_type": "execute_result"
    }
   ],
   "source": [
    "legendary_classifier = DecisionTreeClassifier(max_leaf_nodes=10, random_state=0)\n",
    "legendary_classifier.fit(X_train, y_train)"
   ]
  },
  {
   "cell_type": "code",
   "execution_count": 30,
   "metadata": {},
   "outputs": [],
   "source": [
    "predictions = legendary_classifier.predict(X_test)"
   ]
  },
  {
   "cell_type": "code",
   "execution_count": 31,
   "metadata": {},
   "outputs": [
    {
     "data": {
      "text/plain": [
       "array([ True, False, False, False, False, False, False, False, False,\n",
       "       False])"
      ]
     },
     "execution_count": 31,
     "metadata": {},
     "output_type": "execute_result"
    }
   ],
   "source": [
    "predictions[:10]"
   ]
  },
  {
   "cell_type": "code",
   "execution_count": 32,
   "metadata": {},
   "outputs": [
    {
     "data": {
      "text/plain": [
       "538     True\n",
       "183    False\n",
       "373    False\n",
       "32     False\n",
       "718    False\n",
       "127    False\n",
       "394    False\n",
       "251    False\n",
       "118    False\n",
       "757    False\n",
       "Name: legendary, dtype: bool"
      ]
     },
     "execution_count": 32,
     "metadata": {},
     "output_type": "execute_result"
    }
   ],
   "source": [
    "y_test['legendary'][:10]"
   ]
  },
  {
   "cell_type": "code",
   "execution_count": 33,
   "metadata": {},
   "outputs": [
    {
     "data": {
      "text/plain": [
       "0.9583333333333334"
      ]
     },
     "execution_count": 33,
     "metadata": {},
     "output_type": "execute_result"
    }
   ],
   "source": [
    "accuracy_score(y_true = y_test, y_pred = predictions)"
   ]
  },
  {
   "cell_type": "markdown",
   "metadata": {},
   "source": [
    "Around 96% seems to be pretty decent meaning approximately 4% chance of not getting the correct categorization. These could be perhaps of high stats of non legendary pokemons overwriting legendary pokemons.<br> \n",
    "We currently have a dataset for Generation 7 pokemon which we shall investigate and integrate into our model."
   ]
  },
  {
   "cell_type": "code",
   "execution_count": 34,
   "metadata": {},
   "outputs": [
    {
     "data": {
      "text/html": [
       "<div>\n",
       "<style scoped>\n",
       "    .dataframe tbody tr th:only-of-type {\n",
       "        vertical-align: middle;\n",
       "    }\n",
       "\n",
       "    .dataframe tbody tr th {\n",
       "        vertical-align: top;\n",
       "    }\n",
       "\n",
       "    .dataframe thead th {\n",
       "        text-align: right;\n",
       "    }\n",
       "</style>\n",
       "<table border=\"1\" class=\"dataframe\">\n",
       "  <thead>\n",
       "    <tr style=\"text-align: right;\">\n",
       "      <th></th>\n",
       "      <th>id</th>\n",
       "      <th>species</th>\n",
       "      <th>type1</th>\n",
       "      <th>type2</th>\n",
       "      <th>total</th>\n",
       "      <th>hp</th>\n",
       "      <th>attack</th>\n",
       "      <th>defense</th>\n",
       "      <th>spattack</th>\n",
       "      <th>spdefense</th>\n",
       "      <th>speed</th>\n",
       "      <th>generation</th>\n",
       "      <th>Legendary</th>\n",
       "    </tr>\n",
       "  </thead>\n",
       "  <tbody>\n",
       "    <tr>\n",
       "      <th>0</th>\n",
       "      <td>722</td>\n",
       "      <td>Rowlet</td>\n",
       "      <td>Grass</td>\n",
       "      <td>Flying</td>\n",
       "      <td>320</td>\n",
       "      <td>68</td>\n",
       "      <td>55</td>\n",
       "      <td>55</td>\n",
       "      <td>50</td>\n",
       "      <td>50</td>\n",
       "      <td>42</td>\n",
       "      <td>7</td>\n",
       "      <td>False</td>\n",
       "    </tr>\n",
       "    <tr>\n",
       "      <th>1</th>\n",
       "      <td>723</td>\n",
       "      <td>Dartrix</td>\n",
       "      <td>Grass</td>\n",
       "      <td>Flying</td>\n",
       "      <td>420</td>\n",
       "      <td>78</td>\n",
       "      <td>75</td>\n",
       "      <td>75</td>\n",
       "      <td>70</td>\n",
       "      <td>70</td>\n",
       "      <td>52</td>\n",
       "      <td>7</td>\n",
       "      <td>False</td>\n",
       "    </tr>\n",
       "    <tr>\n",
       "      <th>2</th>\n",
       "      <td>724</td>\n",
       "      <td>Decidueye</td>\n",
       "      <td>Grass</td>\n",
       "      <td>Ghost</td>\n",
       "      <td>530</td>\n",
       "      <td>78</td>\n",
       "      <td>107</td>\n",
       "      <td>75</td>\n",
       "      <td>100</td>\n",
       "      <td>100</td>\n",
       "      <td>70</td>\n",
       "      <td>7</td>\n",
       "      <td>False</td>\n",
       "    </tr>\n",
       "    <tr>\n",
       "      <th>3</th>\n",
       "      <td>725</td>\n",
       "      <td>Litten</td>\n",
       "      <td>Fire</td>\n",
       "      <td>NaN</td>\n",
       "      <td>320</td>\n",
       "      <td>45</td>\n",
       "      <td>65</td>\n",
       "      <td>40</td>\n",
       "      <td>60</td>\n",
       "      <td>40</td>\n",
       "      <td>70</td>\n",
       "      <td>7</td>\n",
       "      <td>False</td>\n",
       "    </tr>\n",
       "    <tr>\n",
       "      <th>4</th>\n",
       "      <td>726</td>\n",
       "      <td>Torracat</td>\n",
       "      <td>Fire</td>\n",
       "      <td>NaN</td>\n",
       "      <td>420</td>\n",
       "      <td>65</td>\n",
       "      <td>85</td>\n",
       "      <td>50</td>\n",
       "      <td>80</td>\n",
       "      <td>50</td>\n",
       "      <td>90</td>\n",
       "      <td>7</td>\n",
       "      <td>False</td>\n",
       "    </tr>\n",
       "  </tbody>\n",
       "</table>\n",
       "</div>"
      ],
      "text/plain": [
       "    id    species  type1   type2  total  hp  attack  defense  spattack  \\\n",
       "0  722     Rowlet  Grass  Flying    320  68      55       55        50   \n",
       "1  723    Dartrix  Grass  Flying    420  78      75       75        70   \n",
       "2  724  Decidueye  Grass   Ghost    530  78     107       75       100   \n",
       "3  725     Litten   Fire     NaN    320  45      65       40        60   \n",
       "4  726   Torracat   Fire     NaN    420  65      85       50        80   \n",
       "\n",
       "   spdefense  speed  generation  Legendary  \n",
       "0         50     42           7      False  \n",
       "1         70     52           7      False  \n",
       "2        100     70           7      False  \n",
       "3         40     70           7      False  \n",
       "4         50     90           7      False  "
      ]
     },
     "execution_count": 34,
     "metadata": {},
     "output_type": "execute_result"
    }
   ],
   "source": [
    "gen7 = pd.read_csv('test.csv')\n",
    "gen7.head()"
   ]
  },
  {
   "cell_type": "markdown",
   "metadata": {},
   "source": [
    "First of all, we'll look into updating the columns again within this dataset."
   ]
  },
  {
   "cell_type": "code",
   "execution_count": 35,
   "metadata": {},
   "outputs": [
    {
     "data": {
      "text/html": [
       "<div>\n",
       "<style scoped>\n",
       "    .dataframe tbody tr th:only-of-type {\n",
       "        vertical-align: middle;\n",
       "    }\n",
       "\n",
       "    .dataframe tbody tr th {\n",
       "        vertical-align: top;\n",
       "    }\n",
       "\n",
       "    .dataframe thead th {\n",
       "        text-align: right;\n",
       "    }\n",
       "</style>\n",
       "<table border=\"1\" class=\"dataframe\">\n",
       "  <thead>\n",
       "    <tr style=\"text-align: right;\">\n",
       "      <th></th>\n",
       "      <th>number</th>\n",
       "      <th>name</th>\n",
       "      <th>type_1</th>\n",
       "      <th>type_2</th>\n",
       "      <th>total</th>\n",
       "      <th>hp</th>\n",
       "      <th>attack</th>\n",
       "      <th>defense</th>\n",
       "      <th>sp_attack</th>\n",
       "      <th>sp_defense</th>\n",
       "      <th>speed</th>\n",
       "      <th>generation</th>\n",
       "      <th>legendary</th>\n",
       "    </tr>\n",
       "  </thead>\n",
       "  <tbody>\n",
       "    <tr>\n",
       "      <th>0</th>\n",
       "      <td>722</td>\n",
       "      <td>Rowlet</td>\n",
       "      <td>Grass</td>\n",
       "      <td>Flying</td>\n",
       "      <td>320</td>\n",
       "      <td>68</td>\n",
       "      <td>55</td>\n",
       "      <td>55</td>\n",
       "      <td>50</td>\n",
       "      <td>50</td>\n",
       "      <td>42</td>\n",
       "      <td>7</td>\n",
       "      <td>False</td>\n",
       "    </tr>\n",
       "    <tr>\n",
       "      <th>1</th>\n",
       "      <td>723</td>\n",
       "      <td>Dartrix</td>\n",
       "      <td>Grass</td>\n",
       "      <td>Flying</td>\n",
       "      <td>420</td>\n",
       "      <td>78</td>\n",
       "      <td>75</td>\n",
       "      <td>75</td>\n",
       "      <td>70</td>\n",
       "      <td>70</td>\n",
       "      <td>52</td>\n",
       "      <td>7</td>\n",
       "      <td>False</td>\n",
       "    </tr>\n",
       "    <tr>\n",
       "      <th>2</th>\n",
       "      <td>724</td>\n",
       "      <td>Decidueye</td>\n",
       "      <td>Grass</td>\n",
       "      <td>Ghost</td>\n",
       "      <td>530</td>\n",
       "      <td>78</td>\n",
       "      <td>107</td>\n",
       "      <td>75</td>\n",
       "      <td>100</td>\n",
       "      <td>100</td>\n",
       "      <td>70</td>\n",
       "      <td>7</td>\n",
       "      <td>False</td>\n",
       "    </tr>\n",
       "    <tr>\n",
       "      <th>3</th>\n",
       "      <td>725</td>\n",
       "      <td>Litten</td>\n",
       "      <td>Fire</td>\n",
       "      <td>NaN</td>\n",
       "      <td>320</td>\n",
       "      <td>45</td>\n",
       "      <td>65</td>\n",
       "      <td>40</td>\n",
       "      <td>60</td>\n",
       "      <td>40</td>\n",
       "      <td>70</td>\n",
       "      <td>7</td>\n",
       "      <td>False</td>\n",
       "    </tr>\n",
       "    <tr>\n",
       "      <th>4</th>\n",
       "      <td>726</td>\n",
       "      <td>Torracat</td>\n",
       "      <td>Fire</td>\n",
       "      <td>NaN</td>\n",
       "      <td>420</td>\n",
       "      <td>65</td>\n",
       "      <td>85</td>\n",
       "      <td>50</td>\n",
       "      <td>80</td>\n",
       "      <td>50</td>\n",
       "      <td>90</td>\n",
       "      <td>7</td>\n",
       "      <td>False</td>\n",
       "    </tr>\n",
       "  </tbody>\n",
       "</table>\n",
       "</div>"
      ],
      "text/plain": [
       "   number       name type_1  type_2  total  hp  attack  defense  sp_attack  \\\n",
       "0     722     Rowlet  Grass  Flying    320  68      55       55         50   \n",
       "1     723    Dartrix  Grass  Flying    420  78      75       75         70   \n",
       "2     724  Decidueye  Grass   Ghost    530  78     107       75        100   \n",
       "3     725     Litten   Fire     NaN    320  45      65       40         60   \n",
       "4     726   Torracat   Fire     NaN    420  65      85       50         80   \n",
       "\n",
       "   sp_defense  speed  generation  legendary  \n",
       "0          50     42           7      False  \n",
       "1          70     52           7      False  \n",
       "2         100     70           7      False  \n",
       "3          40     70           7      False  \n",
       "4          50     90           7      False  "
      ]
     },
     "execution_count": 35,
     "metadata": {},
     "output_type": "execute_result"
    }
   ],
   "source": [
    "gen7.rename(columns = {'species':'name', \n",
    "                       'type1':'type_1',\n",
    "                       'type2': 'type_2',\n",
    "                      'total': 'total',\n",
    "                      'hp':'hp',\n",
    "                      'attack' : 'attack',\n",
    "                      'defense':'defense',\n",
    "                      'spattack':'sp_attack',\n",
    "                      'spdefense':'sp_defense',\n",
    "                      'speed':'speed',\n",
    "                      'generation':'generation',\n",
    "                      'Legendary':'legendary',\n",
    "                      'id':'number'},inplace = True)\n",
    "gen7.head()"
   ]
  },
  {
   "cell_type": "code",
   "execution_count": 36,
   "metadata": {},
   "outputs": [],
   "source": [
    "X2_test = gen7[['total','hp','attack','defense','sp_attack','sp_defense','speed']].copy()\n",
    "y2_test = gen7['legendary'].copy()"
   ]
  },
  {
   "cell_type": "code",
   "execution_count": 37,
   "metadata": {},
   "outputs": [],
   "source": [
    "predictions = legendary_classifier.predict(X2_test)"
   ]
  },
  {
   "cell_type": "code",
   "execution_count": 38,
   "metadata": {},
   "outputs": [
    {
     "data": {
      "text/plain": [
       "array([False, False, False, False, False, False, False, False, False,\n",
       "       False])"
      ]
     },
     "execution_count": 38,
     "metadata": {},
     "output_type": "execute_result"
    }
   ],
   "source": [
    "predictions[:10]"
   ]
  },
  {
   "cell_type": "code",
   "execution_count": 39,
   "metadata": {},
   "outputs": [
    {
     "data": {
      "text/plain": [
       "0    False\n",
       "1    False\n",
       "2    False\n",
       "3    False\n",
       "4    False\n",
       "5    False\n",
       "6    False\n",
       "7    False\n",
       "8    False\n",
       "9    False\n",
       "Name: legendary, dtype: bool"
      ]
     },
     "execution_count": 39,
     "metadata": {},
     "output_type": "execute_result"
    }
   ],
   "source": [
    "y2_test[:10]"
   ]
  },
  {
   "cell_type": "code",
   "execution_count": 40,
   "metadata": {},
   "outputs": [
    {
     "data": {
      "text/plain": [
       "0.9012345679012346"
      ]
     },
     "execution_count": 40,
     "metadata": {},
     "output_type": "execute_result"
    }
   ],
   "source": [
    "accuracy_score(y_true = y2_test, y_pred = predictions)"
   ]
  },
  {
   "cell_type": "markdown",
   "metadata": {},
   "source": [
    "In this case, it seems that the accuracy rate has dropped to around 90% which is still not bad. Seems like thet additions of evolution legendary pokemons may have skewed the results a bit which explains the decrease in accuracy of our prediction model. Nonetherless, 90% accuracy seems to still be an effective way of classifying legendary pokemons."
   ]
  },
  {
   "cell_type": "code",
   "execution_count": null,
   "metadata": {},
   "outputs": [],
   "source": []
  }
 ],
 "metadata": {
  "kernelspec": {
   "display_name": "Python 3",
   "language": "python",
   "name": "python3"
  },
  "language_info": {
   "codemirror_mode": {
    "name": "ipython",
    "version": 3
   },
   "file_extension": ".py",
   "mimetype": "text/x-python",
   "name": "python",
   "nbconvert_exporter": "python",
   "pygments_lexer": "ipython3",
   "version": "3.7.3"
  }
 },
 "nbformat": 4,
 "nbformat_minor": 2
}
